{
 "cells": [
  {
   "cell_type": "markdown",
   "metadata": {},
   "source": [
    "### Tarea 3"
   ]
  },
  {
   "cell_type": "markdown",
   "metadata": {},
   "source": [
    "##### Se implementará un código que sea capaz de resolver la ecuación de Laplace para unas condiciones de frontera específicas en el borde. Esto se logrará al establecer una matriz de dimensiones NxM, donde se especifique un valor arbritrario de potencial, el cual irá cambiando al promediar con sus valores vecinos, iniciando por el borde hasta cambiar los valores de la matriz a un potencial que no cambie de forma abrupta. "
   ]
  },
  {
   "cell_type": "code",
   "execution_count": 4,
   "metadata": {},
   "outputs": [],
   "source": [
    "#Importación de librerias necesarias para la implementación del código\n",
    "\n",
    "import numpy as np\n",
    "import matplotlib.pyplot as py \n",
    "from sympy import Symbol"
   ]
  },
  {
   "cell_type": "code",
   "execution_count": 5,
   "metadata": {},
   "outputs": [],
   "source": [
    "#Inicialmente, se establece una función que reciba por parámetro las variables conocidas.\n",
    "\n",
    "def laplace(v_0, N, M, step):\n",
    "    \"\"\"\n",
    "    La función crea un array con valores de potencial arbitrarios para cada posición.\n",
    "    Además de establecer en la frontera de este array los valores específicos del potencial\n",
    "    conocido. Posteriormente, realizará cambios en cada posición de la matriz, asignando \n",
    "    valores correspondientes al promedio de los vecinos de dicha posición. \n",
    "\n",
    "    Args:\n",
    "        v_0 (list): La lista contiene los valores de potencial para cada frontera. El elemento\n",
    "                    0 corresponde al plano x=0, el elemento 1 se refiere a el plano x=a, el \n",
    "                    elemnto 2 es y=0 y finalmente el elemento 3 corresponde al plano y=b\n",
    "        N (int): Número de filas de la mariz en la que se establecerán los puntos.\n",
    "        M (int): Número de columnas de la matriz en la que se establecen los puntos.\n",
    "        step (int): Dado que dx=dy, corresponde a la separación entre puntos del arreglo, los \n",
    "                    cuales en la forma teórica son representados por dx y dy. \n",
    "    \n",
    "    Return:\n",
    "        int: Solución de la ecuación de Laplace en donde el valor del potencial no varia de forma\n",
    "             significativa.\n",
    "\n",
    "    \"\"\"\n",
    "    #Para iniciar, se establecerán los puntos conocido en la red\n",
    "    V = np.zeros((N,M))\n",
    "    \n",
    "    #Definimos condiciones en el borde\n",
    "    V[0,:] = v_0[0] #plano x=0\n",
    "    V[-1,:] = v_0[1] #plano x=N\n",
    "    V[:,0] = v_0[2] #plano y=0\n",
    "    V[:,-1] = v_0[3] #plano y=M\n",
    "    \n",
    "    a = N*step\n",
    "    b = M*step\n",
    "    \n",
    "    x = np.linspace(0,a,N)\n",
    "    y = np.linspace(0,b,M)\n",
    "    \n",
    "    #Ahora se realizará el algoritmo que cálcula el promedio de los vecinos.\n",
    "    #Será necesario hacer que este se detenga una vez el valor de V no cambie significativamnete\n",
    "    change = 0.00001 #Establecemos una precisión de 0.01 en el cálculo para que el valor se estabilice\n",
    "    iterations = 10000\n",
    "    diff_ini = 0 \n",
    "    \n",
    "    for k in range(iterations):\n",
    "        for i in range(1,N-1):\n",
    "            for j in range(1,M-1):\n",
    "                #Aplicamos metodo de relajación\n",
    "                old_v = V[i,j]\n",
    "                V[i,j] = 0.25 * (V[i+1,j] + V[i-1,j] + V[i,j+1] + V[i,j-1])\n",
    "                \n",
    "                diff = abs(v[i,j] - old_v)\n",
    "                \n",
    "                if diff > diff_ini:\n",
    "                    diff_i = diff\n",
    "                \n",
    "        if diff_i < change:\n",
    "            break\n",
    "    \n",
    "    return V,x,y\n",
    "\n"
   ]
  },
  {
   "cell_type": "code",
   "execution_count": 6,
   "metadata": {},
   "outputs": [
    {
     "ename": "NameError",
     "evalue": "name 'v' is not defined",
     "output_type": "error",
     "traceback": [
      "\u001b[1;31m---------------------------------------------------------------------------\u001b[0m",
      "\u001b[1;31mNameError\u001b[0m                                 Traceback (most recent call last)",
      "Cell \u001b[1;32mIn[6], line 6\u001b[0m\n\u001b[0;32m      3\u001b[0m M \u001b[38;5;241m=\u001b[39m \u001b[38;5;241m200\u001b[39m\n\u001b[0;32m      4\u001b[0m dx \u001b[38;5;241m=\u001b[39m \u001b[38;5;241m0.1\u001b[39m\n\u001b[1;32m----> 6\u001b[0m V \u001b[38;5;241m=\u001b[39m \u001b[43mlaplace\u001b[49m\u001b[43m(\u001b[49m\u001b[43mv_0\u001b[49m\u001b[43m,\u001b[49m\u001b[43m \u001b[49m\u001b[43mN\u001b[49m\u001b[43m,\u001b[49m\u001b[43m \u001b[49m\u001b[43mM\u001b[49m\u001b[43m,\u001b[49m\u001b[43m \u001b[49m\u001b[43mdx\u001b[49m\u001b[43m)\u001b[49m[\u001b[38;5;241m0\u001b[39m]\n\u001b[0;32m      7\u001b[0m x \u001b[38;5;241m=\u001b[39m laplace(v_0, N, M, dx)[\u001b[38;5;241m1\u001b[39m]\n\u001b[0;32m      8\u001b[0m y \u001b[38;5;241m=\u001b[39m laplace(v_0, N, M, dx)[\u001b[38;5;241m2\u001b[39m]\n",
      "Cell \u001b[1;32mIn[5], line 52\u001b[0m, in \u001b[0;36mlaplace\u001b[1;34m(v_0, N, M, step)\u001b[0m\n\u001b[0;32m     49\u001b[0m old_v \u001b[38;5;241m=\u001b[39m V[i,j]\n\u001b[0;32m     50\u001b[0m V[i,j] \u001b[38;5;241m=\u001b[39m \u001b[38;5;241m0.25\u001b[39m \u001b[38;5;241m*\u001b[39m (V[i\u001b[38;5;241m+\u001b[39m\u001b[38;5;241m1\u001b[39m,j] \u001b[38;5;241m+\u001b[39m V[i\u001b[38;5;241m-\u001b[39m\u001b[38;5;241m1\u001b[39m,j] \u001b[38;5;241m+\u001b[39m V[i,j\u001b[38;5;241m+\u001b[39m\u001b[38;5;241m1\u001b[39m] \u001b[38;5;241m+\u001b[39m V[i,j\u001b[38;5;241m-\u001b[39m\u001b[38;5;241m1\u001b[39m])\n\u001b[1;32m---> 52\u001b[0m diff \u001b[38;5;241m=\u001b[39m \u001b[38;5;28mabs\u001b[39m(\u001b[43mv\u001b[49m[i,j] \u001b[38;5;241m-\u001b[39m old_v)\n\u001b[0;32m     54\u001b[0m \u001b[38;5;28;01mif\u001b[39;00m diff \u001b[38;5;241m>\u001b[39m diff_ini:\n\u001b[0;32m     55\u001b[0m     diff_i \u001b[38;5;241m=\u001b[39m diff\n",
      "\u001b[1;31mNameError\u001b[0m: name 'v' is not defined"
     ]
    }
   ],
   "source": [
    "v_0 = [0,0,-1,1]\n",
    "N = 200\n",
    "M = 200\n",
    "dx = 0.1\n",
    "\n",
    "V = laplace(v_0, N, M, dx)[0]\n",
    "x = laplace(v_0, N, M, dx)[1]\n",
    "y = laplace(v_0, N, M, dx)[2]\n",
    "\n",
    "print(V)"
   ]
  },
  {
   "cell_type": "code",
   "execution_count": null,
   "metadata": {},
   "outputs": [],
   "source": []
  }
 ],
 "metadata": {
  "kernelspec": {
   "display_name": "Python 3",
   "language": "python",
   "name": "python3"
  },
  "language_info": {
   "codemirror_mode": {
    "name": "ipython",
    "version": 3
   },
   "file_extension": ".py",
   "mimetype": "text/x-python",
   "name": "python",
   "nbconvert_exporter": "python",
   "pygments_lexer": "ipython3",
   "version": "3.11.8"
  }
 },
 "nbformat": 4,
 "nbformat_minor": 2
}
