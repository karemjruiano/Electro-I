{
 "cells": [
  {
   "cell_type": "markdown",
   "metadata": {},
   "source": [
    "### Tarea 3"
   ]
  },
  {
   "cell_type": "markdown",
   "metadata": {},
   "source": [
    "##### Se implementará un código que sea capaz de resolver la ecuación de Laplace para unas condiciones de frontera específicas en el borde. Esto se logrará al establecer una matriz de dimensiones NxM, donde se especifique un valor arbritrario de potencial, el cual irá cambiando al promediar con sus valores vecinos, iniciando por el borde hasta cambiar los valores de la matriz a un potencial que no cambie de forma abrupta. "
   ]
  },
  {
   "cell_type": "code",
   "execution_count": 12,
   "metadata": {},
   "outputs": [],
   "source": [
    "#Importación de librerias necesarias para la implementación del código\n",
    "\n",
    "import numpy as np\n",
    "import matplotlib.pyplot as py \n",
    "from sympy import Symbol"
   ]
  },
  {
   "cell_type": "code",
   "execution_count": null,
   "metadata": {},
   "outputs": [],
   "source": [
    "#Inicialmente, se establece una función que reciba por parámetro las variables conocidas.\n",
    "\n",
    "def laplace(v_0, N, M, step):\n",
    "    \"\"\"\n",
    "    La función crea un array con valores de potencial arbitrarios para cada posición.\n",
    "    Además de establecer en la frontera de este array los valores específicos del potencial\n",
    "    conocido. Posteriormente, realizará cambios en cada posición de la matriz, asignando \n",
    "    valores correspondientes al promedio de los vecinos de dicha posición. \n",
    "\n",
    "    Args:\n",
    "        v_0 (list): La lista contiene los valores de potencial para cada frontera. El elemento\n",
    "                    0 corresponde al plano x=0, el elemento 1 se refiere a el plano x=a, el \n",
    "                    elemnto 2 es y=0 y finalmente el elemento 3 corresponde al plano y=b\n",
    "        N (int): Número de filas de la mariz en la que se establecerán los puntos.\n",
    "        M (int): Número de columnas de la matriz en la que se establecen los puntos.\n",
    "        step (int): Dado que dx=dy, corresponde a la separación entre puntos del arreglo, los \n",
    "                    cuales en la forma teórica son representados por dx y dy. \n",
    "    \n",
    "    Return:\n",
    "        sympy.core.symbol.Symbol: Solución analítica de la ecuación de Laplace, la cual corresponderá \n",
    "                                  al valor de potencial que ya no fluctua de forma significante. \n",
    "\n",
    "    \"\"\"\n",
    "    \n",
    "    return \n",
    "\n"
   ]
  },
  {
   "cell_type": "code",
   "execution_count": 13,
   "metadata": {},
   "outputs": [],
   "source": [
    "#Dado que la función anterior recibe una lista que contiene los valores correspondientes a los \n",
    "# potenicales en los planos, entonces será necesario tener una función que reciva estos valores \n",
    "# y los convierta en una lista de elementos tipo symbol.\n",
    "\n",
    "def known_v(v_x0, v_xa, v_y0, v_yb):\n",
    "    \"\"\"\n",
    "        La función toma los valores de potencial ingresados por parámetro para convertirlos en \n",
    "        símbolos o entero de ser necesario. Además, organiza estos elementos en una lista donde el elemento\n",
    "        0 será x=0, el elemento 1 será x=a, el elemento 2 será y=0 y el elemento 3 será y=b.\n",
    "    \n",
    "    Args: \n",
    "        v_x0 (str): Potencial para en el palno x=0.\n",
    "        v_xa (str): Potencial para en el palno x=a.\n",
    "        v_y0 (str): Potencial para en el palno y=0.\n",
    "        v_yb (str): Potencial para en el palno y=b.\n",
    "        \n",
    "    Return:\n",
    "        list: lista quecontiene los cuatro potenciales conocidos en la frontera.\n",
    "    \n",
    "    \"\"\"\n",
    "    i_list = [v_x0, v_xa, v_y0, v_yb]\n",
    "    num = [\"0\", \"1\", \"2\", \"3\", \"4\", \"5\", \"6\", \"7\", \"8\", \"9\"]\n",
    "    vs = []\n",
    "    \n",
    "    for every in i_list:\n",
    "        for i in num: \n",
    "            if i in every:\n",
    "                #Si encuentra un entero en la cadena, entonces cambiamos de tipo a \n",
    "                #entero.\n",
    "                new_every = int(every)\n",
    "            else:\n",
    "                #Si no hay enteros en la cadena, entonces debe ser un tipo Symbol.\n",
    "                new_every = symbol(every)\n",
    "        #Reintegramos los elementos de la lista, pero ahora con el tipo correcto.\n",
    "        vs.append(new_every)\n",
    "    \n",
    "    return vs"
   ]
  },
  {
   "cell_type": "code",
   "execution_count": null,
   "metadata": {},
   "outputs": [],
   "source": [
    "#Ahora será necesario crear las variables para que sean ingresadas por pantalla"
   ]
  }
 ],
 "metadata": {
  "kernelspec": {
   "display_name": "Python 3",
   "language": "python",
   "name": "python3"
  },
  "language_info": {
   "codemirror_mode": {
    "name": "ipython",
    "version": 3
   },
   "file_extension": ".py",
   "mimetype": "text/x-python",
   "name": "python",
   "nbconvert_exporter": "python",
   "pygments_lexer": "ipython3",
   "version": "3.11.8"
  }
 },
 "nbformat": 4,
 "nbformat_minor": 2
}
