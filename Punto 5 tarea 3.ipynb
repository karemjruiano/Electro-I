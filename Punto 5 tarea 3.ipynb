{
 "cells": [
  {
   "cell_type": "code",
   "execution_count": 81,
   "metadata": {},
   "outputs": [],
   "source": [
    "import numpy as np\n",
    "import matplotlib.pyplot as plt"
   ]
  },
  {
   "cell_type": "code",
   "execution_count": 82,
   "metadata": {},
   "outputs": [],
   "source": [
    "#Longitud de la caja\n",
    "l = 10 \n",
    "#Lado de una grilla\n",
    "d = 0.1\n",
    "#Número de puntos en la malla\n",
    "n = int(l/d)+1\n"
   ]
  },
  {
   "cell_type": "code",
   "execution_count": 83,
   "metadata": {},
   "outputs": [],
   "source": [
    "#Definimos la grilla en un cuadrado, representando el potencial\n",
    "V = np.zeros((n,n))\n",
    "#Ponemos las condiciones iniciales\n",
    "V[:,-1] = 5.0"
   ]
  },
  {
   "cell_type": "code",
   "execution_count": 84,
   "metadata": {},
   "outputs": [
    {
     "name": "stderr",
     "output_type": "stream",
     "text": [
      "C:\\Users\\USUARIO\\AppData\\Local\\Temp\\ipykernel_16728\\2923762242.py:10: RuntimeWarning: invalid value encountered in scalar divide\n",
      "  diff = diff + (new_V-V[i,j])/(V[i,j])\n",
      "C:\\Users\\USUARIO\\AppData\\Local\\Temp\\ipykernel_16728\\2923762242.py:10: RuntimeWarning: divide by zero encountered in scalar divide\n",
      "  diff = diff + (new_V-V[i,j])/(V[i,j])\n"
     ]
    }
   ],
   "source": [
    "#Número de iteraciones\n",
    "iterations = 100\n",
    "#presición\n",
    "p = 0.1\n",
    "for k in range(iterations):\n",
    "    diff = 0\n",
    "    for i in range(1,n-1):\n",
    "        for j in range(1,n-1):\n",
    "            new_V = 0.25 * (V[i+1,j] + V[i-1,j] + V[i,j+1] + V[i,j-1])\n",
    "            diff = diff + (new_V-V[i,j])/(V[i,j])\n",
    "            V[i,j] = new_V\n",
    "    if diff < p:\n",
    "        break\n",
    "            "
   ]
  },
  {
   "cell_type": "code",
   "execution_count": 85,
   "metadata": {},
   "outputs": [],
   "source": [
    "#Creación de la malla\n",
    "x = np.linspace(0,l,n)\n",
    "y = np.linspace(0,l,n)\n",
    "X,Y = np.meshgrid(x,y)"
   ]
  },
  {
   "cell_type": "code",
   "execution_count": 86,
   "metadata": {},
   "outputs": [
    {
     "data": {
      "image/png": "[encoded data removed]",
      "text/plain": [
       "<Figure size 640x480 with 2 Axes>"
      ]
     },
     "metadata": {},
     "output_type": "display_data"
    }
   ],
   "source": [
    "plt.imshow(V.T, cmap='viridis', extent=[0, l, 0, l], origin='lower', aspect='auto')\n",
    "plt.colorbar(label='Potencial (voltios)')\n",
    "plt.xlabel('Eje x')\n",
    "plt.ylabel('Eje y')\n",
    "plt.title('Potencial en la caja')\n",
    "plt.show()"
   ]
  },
  {
   "cell_type": "code",
   "execution_count": 89,
   "metadata": {},
   "outputs": [
    {
     "ename": "KeyboardInterrupt",
     "evalue": "",
     "output_type": "error",
     "traceback": [
      "\u001b[1;31m---------------------------------------------------------------------------\u001b[0m",
      "\u001b[1;31mKeyboardInterrupt\u001b[0m                         Traceback (most recent call last)",
      "\u001b[1;32md:\\Users\\USUARIO\\Documents\\Sexto semestre\\Electromagnetismo I\\Tareas\\Punto 5 tarea 3.ipynb Cell 7\u001b[0m line \u001b[0;36m1\n\u001b[0;32m     <a href='vscode-notebook-cell:/d%3A/Users/USUARIO/Documents/Sexto%20semestre/Electromagnetismo%20I/Tareas/Punto%205%20tarea%203.ipynb#X10sZmlsZQ%3D%3D?line=9'>10</a>\u001b[0m         new_V \u001b[39m=\u001b[39m \u001b[39m0.25\u001b[39m \u001b[39m*\u001b[39m (V[i\u001b[39m+\u001b[39m\u001b[39m1\u001b[39m,j] \u001b[39m+\u001b[39m V[i\u001b[39m-\u001b[39m\u001b[39m1\u001b[39m,j] \u001b[39m+\u001b[39m V[i,j\u001b[39m+\u001b[39m\u001b[39m1\u001b[39m] \u001b[39m+\u001b[39m V[i,j\u001b[39m-\u001b[39m\u001b[39m1\u001b[39m])\n\u001b[0;32m     <a href='vscode-notebook-cell:/d%3A/Users/USUARIO/Documents/Sexto%20semestre/Electromagnetismo%20I/Tareas/Punto%205%20tarea%203.ipynb#X10sZmlsZQ%3D%3D?line=10'>11</a>\u001b[0m         diff \u001b[39m=\u001b[39m diff \u001b[39m+\u001b[39m (new_V\u001b[39m-\u001b[39mV[i,j])\u001b[39m/\u001b[39m(V[i,j])\n\u001b[1;32m---> <a href='vscode-notebook-cell:/d%3A/Users/USUARIO/Documents/Sexto%20semestre/Electromagnetismo%20I/Tareas/Punto%205%20tarea%203.ipynb#X10sZmlsZQ%3D%3D?line=11'>12</a>\u001b[0m         V[i,j] \u001b[39m=\u001b[39m new_V\n\u001b[0;32m     <a href='vscode-notebook-cell:/d%3A/Users/USUARIO/Documents/Sexto%20semestre/Electromagnetismo%20I/Tareas/Punto%205%20tarea%203.ipynb#X10sZmlsZQ%3D%3D?line=12'>13</a>\u001b[0m \u001b[39mif\u001b[39;00m diff \u001b[39m<\u001b[39m p:\n\u001b[0;32m     <a href='vscode-notebook-cell:/d%3A/Users/USUARIO/Documents/Sexto%20semestre/Electromagnetismo%20I/Tareas/Punto%205%20tarea%203.ipynb#X10sZmlsZQ%3D%3D?line=13'>14</a>\u001b[0m     \u001b[39mbreak\u001b[39;00m\n",
      "\u001b[1;31mKeyboardInterrupt\u001b[0m: "
     ]
    }
   ],
   "source": [
    "#Ahora, para 1000 iteraciones\n",
    "#Número de iteraciones\n",
    "iterations = 1000\n",
    "#presición\n",
    "p = 0.01\n",
    "for k in range(iterations):\n",
    "    diff = 0\n",
    "    for i in range(1,n-1):\n",
    "        for j in range(1,n-1):\n",
    "            new_V = 0.25 * (V[i+1,j] + V[i-1,j] + V[i,j+1] + V[i,j-1])\n",
    "            diff = diff + (new_V-V[i,j])/(V[i,j])\n",
    "            V[i,j] = new_V\n",
    "    if diff < p:\n",
    "        break"
   ]
  },
  {
   "cell_type": "code",
   "execution_count": null,
   "metadata": {},
   "outputs": [],
   "source": [
    "#Creación de la malla\n",
    "x = np.linspace(0,l,n)\n",
    "y = np.linspace(0,l,n)\n",
    "X,Y = np.meshgrid(x,y)"
   ]
  },
  {
   "cell_type": "code",
   "execution_count": null,
   "metadata": {},
   "outputs": [],
   "source": [
    "plt.imshow(V.T, cmap='viridis', extent=[0, l, 0, l], origin='lower', aspect='auto')\n",
    "plt.colorbar(label='Potencial (voltios)')\n",
    "plt.xlabel('Eje x')\n",
    "plt.ylabel('Eje y')\n",
    "plt.title('Potencial en la caja')\n",
    "plt.show()"
   ]
  },
  {
   "cell_type": "code",
   "execution_count": null,
   "metadata": {},
   "outputs": [],
   "source": [
    "v=np.zeros((101,101))\n",
    "for x in range(1,10):\n",
    "    for y in range(1,10):\n",
    "        for k in range(9):\n",
    "            a=20/((2 * k + 1)*np.pi * np.sinh((2 * k + 1)*np.pi))\n",
    "            v[x,y]= a * np.sin(((2 * k + 1)*np.pi*x)/(10)) * np.sinh(((2 * k + 1)*np.pi*y)/(10))"
   ]
  },
  {
   "cell_type": "code",
   "execution_count": null,
   "metadata": {},
   "outputs": [],
   "source": [
    "#Calculo para observar las diferencias en el calculo\n",
    "\n",
    "#Número de iteraciones\n",
    "iterations = 100\n",
    "#presición\n",
    "p = 0.01\n",
    "max_val=0\n",
    "for k in range(iterations):\n",
    "    diff = 0\n",
    "    for i in range(1,n-1):\n",
    "        for j in range(1,n-1):\n",
    "            new_V = 0.25 * (V[i+1,j] + V[i-1,j] + V[i,j+1] + V[i,j-1])\n",
    "            diff = diff + (new_V-V[i,j])/(V[i,j])\n",
    "            delta_V= abs(V[i,j]-v[i,j])\n",
    "            V[i,j] = new_V\n",
    "        if delta_V > max_val:\n",
    "           max_val=delta_V\n",
    "           porc=(max_val/v[i,j])*100\n",
    "    if diff < p:\n",
    "        break"
   ]
  },
  {
   "cell_type": "code",
   "execution_count": null,
   "metadata": {},
   "outputs": [],
   "source": [
    "print(max_val)\n",
    "print(porc)\n",
    "#No se realizó la actividad para 0.01 ya que el código tardaba mucho tiempo, sin embargo se puede observar que se obtiene un mejor resultado con 0.01"
   ]
  }
 ],
 "metadata": {
  "kernelspec": {
   "display_name": "Python 3",
   "language": "python",
   "name": "python3"
  },
  "language_info": {
   "codemirror_mode": {
    "name": "ipython",
    "version": 3
   },
   "file_extension": ".py",
   "mimetype": "text/x-python",
   "name": "python",
   "nbconvert_exporter": "python",
   "pygments_lexer": "ipython3",
   "version": "3.11.5"
  },
  "orig_nbformat": 4
 },
 "nbformat": 4,
 "nbformat_minor": 2
}
